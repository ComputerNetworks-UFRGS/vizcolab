{
 "cells": [
  {
   "cell_type": "code",
   "execution_count": null,
   "metadata": {},
   "outputs": [],
   "source": [
    "import pandas as pd\n",
    "import os, glob\n",
    "pd.set_option('display.max_columns', None)"
   ]
  },
  {
   "cell_type": "code",
   "execution_count": null,
   "metadata": {},
   "outputs": [],
   "source": [
    "path = os.path.join('datasets/cursos/', \"cursos-*.csv\")\n",
    "data_files = glob.glob(path) \n",
    "print(*data_files, sep = \"\\n\")\n",
    "\n",
    "courses_df = pd.concat(pd.read_csv(f, encoding='iso8859_1', delimiter=\";\") for f in data_files)\n",
    "courses_df"
   ]
  },
  {
   "cell_type": "code",
   "execution_count": null,
   "metadata": {},
   "outputs": [],
   "source": [
    "universities = courses_df.groupby('SG_ENTIDADE_ENSINO').agg('last')\n",
    "universities = universities.filter([\n",
    "  'CD_ENTIDADE_CAPES',\n",
    "  'CD_ENTIDADE_EMEC',\n",
    "  'NM_ENTIDADE_ENSINO',\n",
    "  'CS_STATUS_JURIDICO',\n",
    "  'DS_DEPENDENCIA_ADMINISTRATIVA',\n",
    "  'NM_REGIAO',\n",
    "  'SG_UF_PROGRAMA',\n",
    "  'NM_MUNICIPIO_PROGRAMA_IES'\n",
    "])\n",
    "universities.to_csv('output/universities.csv', sep=';')\n",
    "universities"
   ]
  },
  {
   "cell_type": "code",
   "execution_count": null,
   "metadata": {},
   "outputs": [],
   "source": [
    "path = os.path.join('datasets/programas/', \"programas-*.csv\")\n",
    "data_files = glob.glob(path) \n",
    "print(*data_files, sep = \"\\n\")\n",
    "\n",
    "programs_df = pd.concat(pd.read_csv(f, encoding='iso8859_1', delimiter=\";\") for f in data_files)\n",
    "programs_df"
   ]
  },
  {
   "cell_type": "code",
   "execution_count": null,
   "metadata": {},
   "outputs": [],
   "source": [
    "programs = programs_df.groupby(['CD_PROGRAMA_IES']).agg('last')\n",
    "programs = programs.filter([\n",
    "  'SG_ENTIDADE_ENSINO',\n",
    "  'NM_PROGRAMA_IES',\n",
    "  'CD_PROGRAMA_IES',\n",
    "  'NM_GRANDE_AREA_CONHECIMENTO',\n",
    "  'NM_AREA_CONHECIMENTO',\n",
    "  'NM_SUBAREA_CONHECIMENTO',\n",
    "  'NM_ESPECIALIDADE',\n",
    "  'NM_AREA_AVALIACAO'\n",
    "])\n",
    "programs.to_csv('output/programs.csv', sep=';')\n",
    "programs"
   ]
  }
 ],
 "metadata": {
  "kernelspec": {
   "display_name": "Python 3.10.5 64-bit",
   "language": "python",
   "name": "python3"
  },
  "language_info": {
   "codemirror_mode": {
    "name": "ipython",
    "version": 3
   },
   "file_extension": ".py",
   "mimetype": "text/x-python",
   "name": "python",
   "nbconvert_exporter": "python",
   "pygments_lexer": "ipython3",
   "version": "3.10.5"
  },
  "orig_nbformat": 4,
  "vscode": {
   "interpreter": {
    "hash": "aee8b7b246df8f9039afb4144a1f6fd8d2ca17a180786b69acc140d282b71a49"
   }
  }
 },
 "nbformat": 4,
 "nbformat_minor": 2
}
