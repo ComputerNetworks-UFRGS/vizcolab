{
 "cells": [
  {
   "cell_type": "code",
   "execution_count": null,
   "metadata": {},
   "outputs": [],
   "source": [
    "import pandas as pd\n",
    "import math\n",
    "import ast\n",
    "\n",
    "pd.set_option('display.max_columns', None)\n",
    "\n",
    "authors = pd.read_csv(\"./output/processed_authors.csv\", delimiter=\",\")\n",
    "authors = authors.drop(columns=['IDX', 'FULL_NAME', 'FIRST_LAST_NAME'])\n",
    "authors\n"
   ]
  },
  {
   "cell_type": "code",
   "execution_count": null,
   "metadata": {},
   "outputs": [],
   "source": [
    "dict_fields = [\n",
    "  'NM_AUTOR',\n",
    "  'NM_ABNT_AUTOR',\n",
    "  'CD_PROGRAMA_IES',\n",
    "  'NM_PROGRAMA_IES',\n",
    "  'NM_AREA_CONHECIMENTO',\n",
    "  'SG_ENTIDADE_ENSINO',\n",
    "]\n",
    "\n",
    "def parse_array(s):\n",
    "  try:\n",
    "    lit = ast.literal_eval(s)  \n",
    "  except:\n",
    "    return []\n",
    "\n",
    "  return lit\n",
    "\n",
    "def most_freq(d):\n",
    "  try:\n",
    "    d = ast.literal_eval(d)  \n",
    "    x = -1\n",
    "    k = None\n",
    "    for key in d:\n",
    "      if (d[key] > x and key != 'nan'):\n",
    "        x = d[key]\n",
    "        k = key\n",
    "  except:\n",
    "    return '-'\n",
    "\n",
    "  return k if k != 'nan' else '-'\n",
    "\n",
    "def select_by_priority(priority_list, d):\n",
    "  try:\n",
    "    d = ast.literal_eval(d)\n",
    "    n = next((type for type in priority_list if type in d.keys()), None)\n",
    "  except:\n",
    "    # print(d)\n",
    "    # print(type(d))\n",
    "    n = None\n",
    "  return n \n",
    "  \n",
    "def priority(priority_list):\n",
    "  return lambda d: select_by_priority(priority_list, d)\n",
    "  \n",
    "authors[['ID_ADD_PRODUCAO_INTELECTUAL']] = authors[['ID_ADD_PRODUCAO_INTELECTUAL']].applymap(parse_array)\n",
    "authors[['TP_AUTOR']] = authors[['TP_AUTOR']].applymap(priority(['DOCENTE', 'EGRESSO', 'PÓS-DOC', 'DISCENTE', 'PARTICIPANTE EXTERNO']))\n",
    "authors[['NM_TP_CATEGORIA_DOCENTE']] = authors[['NM_TP_CATEGORIA_DOCENTE']].applymap(priority(['PERMANENTE', 'COLABORADOR', 'VISITANTE']))\n",
    "authors[['NM_NIVEL_DISCENTE']] = authors[['NM_NIVEL_DISCENTE']].applymap(priority(['DOUTORADO PROFISSIONAL', 'BACHARELADO', 'MESTRADO', 'DOUTORADO', 'MESTRADO PROFISSIONAL']))\n",
    "authors[dict_fields] = authors[dict_fields].applymap(most_freq)\n",
    "\n",
    "authors"
   ]
  },
  {
   "cell_type": "code",
   "execution_count": null,
   "metadata": {},
   "outputs": [],
   "source": [
    "authors = authors.groupby(['NM_AUTOR'], sort=False, as_index=False).agg({\n",
    "  'ID': 'first',\n",
    "  'NM_AUTOR': 'first',\n",
    "  'NM_ABNT_AUTOR': 'first',\n",
    "  'TP_AUTOR': 'first',\n",
    "  'NM_TP_CATEGORIA_DOCENTE': 'first',\n",
    "  'NM_NIVEL_DISCENTE': 'first',\n",
    "  'CD_PROGRAMA_IES': 'first',\n",
    "  'NM_PROGRAMA_IES': 'first',\n",
    "  'NM_AREA_CONHECIMENTO': 'first',\n",
    "  'SG_ENTIDADE_ENSINO': 'first',\n",
    "  'ID_ADD_PRODUCAO_INTELECTUAL': 'sum'\n",
    "})"
   ]
  },
  {
   "cell_type": "code",
   "execution_count": null,
   "metadata": {},
   "outputs": [],
   "source": [
    "# Add productions count to each author\n",
    "authors['PROD_COUNT'] = authors[['ID_ADD_PRODUCAO_INTELECTUAL']].applymap(len)"
   ]
  },
  {
   "cell_type": "code",
   "execution_count": null,
   "metadata": {},
   "outputs": [],
   "source": [
    "authors.index.name = 'IDX'\n",
    "authors.to_csv('output/normalized_authors.csv', sep=';')"
   ]
  }
 ],
 "metadata": {
  "kernelspec": {
   "display_name": "Python 3.10.5 64-bit",
   "language": "python",
   "name": "python3"
  },
  "language_info": {
   "codemirror_mode": {
    "name": "ipython",
    "version": 3
   },
   "file_extension": ".py",
   "mimetype": "text/x-python",
   "name": "python",
   "nbconvert_exporter": "python",
   "pygments_lexer": "ipython3",
   "version": "3.10.5"
  },
  "orig_nbformat": 4,
  "vscode": {
   "interpreter": {
    "hash": "aee8b7b246df8f9039afb4144a1f6fd8d2ca17a180786b69acc140d282b71a49"
   }
  }
 },
 "nbformat": 4,
 "nbformat_minor": 2
}
