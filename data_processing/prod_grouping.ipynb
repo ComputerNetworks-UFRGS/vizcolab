{
 "cells": [
  {
   "cell_type": "code",
   "execution_count": null,
   "metadata": {},
   "outputs": [],
   "source": [
    "import os\n",
    "import glob\n",
    "import json\n",
    "import utils\n",
    "import pandas as pd\n",
    "\n",
    "pd.set_option('display.max_columns', None)"
   ]
  },
  {
   "cell_type": "code",
   "execution_count": null,
   "metadata": {},
   "outputs": [],
   "source": [
    "print('⚙️ Importing productions...')\n",
    "\n",
    "path = os.path.join('datasets/producao_intelectual/', \"producoes-*.csv\")\n",
    "data_files = glob.glob(path) \n",
    "print(*data_files, sep = \"\\n\")\n",
    "\n",
    "df = pd.concat((pd.read_csv(f, encoding='iso8859_1', delimiter=\";\") for f in data_files))\n",
    "\n",
    "# Only selects author 5% sample of the dataset\n",
    "# df = df.sample(frac=0.05, random_state=1)\n",
    "\n",
    "print(\"   {} productions in the dataset\".format(len(df)))\n",
    "df"
   ]
  },
  {
   "cell_type": "code",
   "execution_count": null,
   "metadata": {},
   "outputs": [],
   "source": [
    "# Filter fields of interest\n",
    "df = df.filter([\n",
    "  'NM_PRODUCAO',\n",
    "  'NM_TIPO_PRODUCAO',\n",
    "  'NM_SUBTIPO_PRODUCAO',\n",
    "  'AN_BASE',\n",
    "  'SG_ENTIDADE_ENSINO',\n",
    "  'NM_PROGRAMA_IES',\n",
    "  'NM_AREA_CONCENTRACAO',\n",
    "  'NM_LINHA_PESQUISA',\n",
    "  'NM_PROJETO',\n",
    "  'ID_ADD_PRODUCAO_INTELECTUAL'\n",
    "])\n",
    "\n",
    "df"
   ]
  },
  {
   "cell_type": "code",
   "execution_count": null,
   "metadata": {},
   "outputs": [],
   "source": [
    "print('⚙️ Normalizing production titles...')\n",
    "df['NM_PRODUCAO'] = df['NM_PRODUCAO'].apply(utils.normalize_title)"
   ]
  },
  {
   "cell_type": "code",
   "execution_count": null,
   "metadata": {},
   "outputs": [],
   "source": [
    "df_grouped = df.groupby(['NM_PRODUCAO'], sort=False, as_index=False).agg({\n",
    "  'NM_TIPO_PRODUCAO': 'first',\n",
    "  'NM_SUBTIPO_PRODUCAO': 'first',\n",
    "  'AN_BASE': 'first',\n",
    "  'SG_ENTIDADE_ENSINO': utils.count_to_dict,\n",
    "  'NM_PROGRAMA_IES': utils.count_to_dict,\n",
    "  'NM_AREA_CONCENTRACAO': utils.count_to_dict,\n",
    "  'NM_LINHA_PESQUISA': utils.count_to_dict,\n",
    "  'NM_PROJETO': utils.count_to_dict,\n",
    "  'ID_ADD_PRODUCAO_INTELECTUAL': list,\n",
    "})\n",
    "df_grouped"
   ]
  },
  {
   "cell_type": "code",
   "execution_count": null,
   "metadata": {},
   "outputs": [],
   "source": [
    "print('⚙️ Exporting production id replacements list to output/prod_id_replacements.json...')\n",
    "os.makedirs('output/', exist_ok=True)\n",
    "replacements = {}\n",
    "\n",
    "for _, id_list in df_grouped['ID_ADD_PRODUCAO_INTELECTUAL'].items():\n",
    "  for id in id_list[1:]:\n",
    "    replacements[id] = id_list[0]\n",
    "\n",
    "json.dump(replacements, open('output/prod_id_replacements.json', 'w'))"
   ]
  },
  {
   "cell_type": "code",
   "execution_count": null,
   "metadata": {},
   "outputs": [],
   "source": [
    "print('⚙️ Importing productions details...')\n",
    "\n",
    "path = os.path.join('datasets/detalhes_producao/', \"detalhes-prod-*.csv\")\n",
    "data_files = glob.glob(path) \n",
    "print(*data_files, sep = \"\\n\")\n",
    "\n",
    "details = {}\n",
    "\n",
    "for f in data_files:\n",
    "  details.update(pd.read_csv(f, encoding='iso8859_1', delimiter=\";\").set_index('ID_ADD_PRODUCAO_INTELECTUAL').to_dict('index_names'))\n",
    "\n",
    "df_grouped['ID_ADD_PRODUCAO_INTELECTUAL'] = df_grouped['ID_ADD_PRODUCAO_INTELECTUAL'].map(lambda l: l[0])\n",
    "df_grouped['DETALHES'] = df_grouped['ID_ADD_PRODUCAO_INTELECTUAL'].map(details)\n"
   ]
  },
  {
   "cell_type": "code",
   "execution_count": null,
   "metadata": {},
   "outputs": [],
   "source": [
    "print('⚙️ Exporting productions to output/processed_productions.csv...')\n",
    "df_grouped.index.name = 'IDX'\n",
    "df_grouped.to_csv('output/processed_productions.csv', sep=';')"
   ]
  }
 ],
 "metadata": {
  "kernelspec": {
   "display_name": "Python 3.10.5 64-bit",
   "language": "python",
   "name": "python3"
  },
  "language_info": {
   "codemirror_mode": {
    "name": "ipython",
    "version": 3
   },
   "file_extension": ".py",
   "mimetype": "text/x-python",
   "name": "python",
   "nbconvert_exporter": "python",
   "pygments_lexer": "ipython3",
   "version": "3.10.5"
  },
  "orig_nbformat": 4,
  "vscode": {
   "interpreter": {
    "hash": "aee8b7b246df8f9039afb4144a1f6fd8d2ca17a180786b69acc140d282b71a49"
   }
  }
 },
 "nbformat": 4,
 "nbformat_minor": 2
}
