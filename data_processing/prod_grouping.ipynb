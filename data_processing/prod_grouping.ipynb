{
 "cells": [
  {
   "cell_type": "code",
   "execution_count": null,
   "metadata": {},
   "outputs": [],
   "source": [
    "import os\n",
    "import glob\n",
    "import pandas as pd\n",
    "\n",
    "pd.set_option('display.max_columns', None)"
   ]
  },
  {
   "cell_type": "code",
   "execution_count": null,
   "metadata": {},
   "outputs": [],
   "source": [
    "print('⚙️ Importing productions...')\n",
    "\n",
    "path = os.path.join('datasets/producao_intelectual/', \"producoes-*.csv\")\n",
    "data_files = glob.glob(path) \n",
    "print(*data_files, sep = \"\\n\")\n",
    "\n",
    "df = pd.concat((pd.read_csv(f, encoding='iso8859_1', delimiter=\";\") for f in data_files))\n",
    "\n",
    "# Only selects author 5% sample of the dataset\n",
    "# df = df.sample(frac=0.05, random_state=1)\n",
    "\n",
    "print(\"   {} productions in the dataset\".format(len(df)))\n",
    "df"
   ]
  },
  {
   "cell_type": "code",
   "execution_count": null,
   "metadata": {},
   "outputs": [],
   "source": [
    "print('⚙️ Importing productions details...')\n",
    "\n",
    "path = os.path.join('datasets/detalhes_producao/', \"detalhes-prod-*.csv\")\n",
    "data_files = glob.glob(path) \n",
    "print(*data_files, sep = \"\\n\")\n",
    "\n",
    "details = (pd.read_csv(f, encoding='iso8859_1', delimiter=\";\") for f in data_files)\n",
    "\n",
    "print('⚙️ Joining productions with production details...')\n",
    "\n",
    "df_merged = df.copy()\n",
    "\n",
    "for d in details:\n",
    "  df_merged = df_merged.join(d, rsuffix='_REMOVE', on='ID_ADD_PRODUCAO_INTELECTUAL', how='outer')\n",
    "\n",
    "df_merged"
   ]
  },
  {
   "cell_type": "code",
   "execution_count": null,
   "metadata": {},
   "outputs": [],
   "source": [
    "df_merged.drop([i for i in df_merged.columns if '_REMOVE' in i],axis=1, inplace=True)\n",
    "df_merged"
   ]
  },
  {
   "cell_type": "code",
   "execution_count": null,
   "metadata": {},
   "outputs": [],
   "source": [
    "df_merged = df_merged.groupby(['NM_PRODUCAO'], sort=False, as_index=False).agg('first')\n",
    "df_merged"
   ]
  }
 ],
 "metadata": {
  "kernelspec": {
   "display_name": "Python 3.10.5 64-bit",
   "language": "python",
   "name": "python3"
  },
  "language_info": {
   "codemirror_mode": {
    "name": "ipython",
    "version": 3
   },
   "file_extension": ".py",
   "mimetype": "text/x-python",
   "name": "python",
   "nbconvert_exporter": "python",
   "pygments_lexer": "ipython3",
   "version": "3.10.5"
  },
  "orig_nbformat": 4,
  "vscode": {
   "interpreter": {
    "hash": "97cc609b13305c559618ec78a438abc56230b9381f827f22d070313b9a1f3777"
   }
  }
 },
 "nbformat": 4,
 "nbformat_minor": 2
}
