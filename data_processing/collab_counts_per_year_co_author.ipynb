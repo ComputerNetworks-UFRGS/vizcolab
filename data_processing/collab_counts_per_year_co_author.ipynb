{
 "cells": [
  {
   "cell_type": "code",
   "execution_count": 1,
   "metadata": {},
   "outputs": [
    {
     "name": "stderr",
     "output_type": "stream",
     "text": [
      "/var/folders/k4/0yt_dx8d7jld184ztkxzmg040000gn/T/ipykernel_18600/589332818.py:5: DtypeWarning: Columns (11) have mixed types. Specify dtype option on import or set low_memory=False.\n",
      "  productions = pd.read_csv('output/processed_productions.csv', delimiter=';')\n"
     ]
    },
    {
     "data": {
      "text/html": [
       "<div>\n",
       "<style scoped>\n",
       "    .dataframe tbody tr th:only-of-type {\n",
       "        vertical-align: middle;\n",
       "    }\n",
       "\n",
       "    .dataframe tbody tr th {\n",
       "        vertical-align: top;\n",
       "    }\n",
       "\n",
       "    .dataframe thead th {\n",
       "        text-align: right;\n",
       "    }\n",
       "</style>\n",
       "<table border=\"1\" class=\"dataframe\">\n",
       "  <thead>\n",
       "    <tr style=\"text-align: right;\">\n",
       "      <th>AN_BASE</th>\n",
       "      <th>AUTHOR_1</th>\n",
       "      <th>AUTHOR_2</th>\n",
       "      <th>2017</th>\n",
       "      <th>2018</th>\n",
       "      <th>2019</th>\n",
       "      <th>2020</th>\n",
       "    </tr>\n",
       "  </thead>\n",
       "  <tbody>\n",
       "    <tr>\n",
       "      <th>0</th>\n",
       "      <td>0</td>\n",
       "      <td>946</td>\n",
       "      <td>0</td>\n",
       "      <td>0</td>\n",
       "      <td>0</td>\n",
       "      <td>1</td>\n",
       "    </tr>\n",
       "    <tr>\n",
       "      <th>1</th>\n",
       "      <td>0</td>\n",
       "      <td>948</td>\n",
       "      <td>0</td>\n",
       "      <td>0</td>\n",
       "      <td>1</td>\n",
       "      <td>1</td>\n",
       "    </tr>\n",
       "    <tr>\n",
       "      <th>2</th>\n",
       "      <td>0</td>\n",
       "      <td>1389</td>\n",
       "      <td>0</td>\n",
       "      <td>1</td>\n",
       "      <td>0</td>\n",
       "      <td>0</td>\n",
       "    </tr>\n",
       "    <tr>\n",
       "      <th>3</th>\n",
       "      <td>0</td>\n",
       "      <td>2312</td>\n",
       "      <td>0</td>\n",
       "      <td>0</td>\n",
       "      <td>3</td>\n",
       "      <td>1</td>\n",
       "    </tr>\n",
       "    <tr>\n",
       "      <th>4</th>\n",
       "      <td>0</td>\n",
       "      <td>2459</td>\n",
       "      <td>0</td>\n",
       "      <td>0</td>\n",
       "      <td>2</td>\n",
       "      <td>0</td>\n",
       "    </tr>\n",
       "  </tbody>\n",
       "</table>\n",
       "</div>"
      ],
      "text/plain": [
       "AN_BASE  AUTHOR_1  AUTHOR_2  2017  2018  2019  2020\n",
       "0               0       946     0     0     0     1\n",
       "1               0       948     0     0     1     1\n",
       "2               0      1389     0     1     0     0\n",
       "3               0      2312     0     0     3     1\n",
       "4               0      2459     0     0     2     0"
      ]
     },
     "execution_count": 1,
     "metadata": {},
     "output_type": "execute_result"
    }
   ],
   "source": [
    "import pandas as pd\n",
    "\n",
    "# Load data\n",
    "co_authorships = pd.read_csv('output/co_authorships.csv', delimiter=';')\n",
    "productions = pd.read_csv('output/processed_productions.csv', delimiter=';')\n",
    "\n",
    "# Convert year column to integer\n",
    "productions['AN_BASE'] = productions['AN_BASE'].astype(int)\n",
    "\n",
    "# Merge dataframes on production id\n",
    "merged = pd.merge(co_authorships, productions, left_on='PROD_ID', right_on='ID_ADD_PRODUCAO_INTELECTUAL')\n",
    "\n",
    "# Group by year and co-authors pair, count collaborations\n",
    "collabs_per_year = merged.groupby(['AUTHOR_1', 'AUTHOR_2', 'AN_BASE']).size().reset_index(name='collabs_count')\n",
    "\n",
    "# Pivot this DataFrame to have years as columns, fill missing values with 0\n",
    "collabs_per_year_pivoted = collabs_per_year.pivot_table(index=['AUTHOR_1', 'AUTHOR_2'], \n",
    "                                                        columns='AN_BASE', \n",
    "                                                        values='collabs_count', \n",
    "                                                        fill_value=0).reset_index()\n",
    "\n",
    "# Now collabs_per_year_pivoted contains each author pair along with collaboration counts per year."
   ]
  },
  {
   "cell_type": "code",
   "execution_count": 7,
   "metadata": {},
   "outputs": [],
   "source": [
    "collabs_per_year_pivoted.to_csv('output/co_author_collabs_per_year.csv', index=False)"
   ]
  }
 ],
 "metadata": {
  "kernelspec": {
   "display_name": "Python 3",
   "language": "python",
   "name": "python3"
  },
  "language_info": {
   "codemirror_mode": {
    "name": "ipython",
    "version": 3
   },
   "file_extension": ".py",
   "mimetype": "text/x-python",
   "name": "python",
   "nbconvert_exporter": "python",
   "pygments_lexer": "ipython3",
   "version": "3.11.3"
  },
  "orig_nbformat": 4
 },
 "nbformat": 4,
 "nbformat_minor": 2
}
